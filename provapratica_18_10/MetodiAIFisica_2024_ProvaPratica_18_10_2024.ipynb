{
  "nbformat": 4,
  "nbformat_minor": 0,
  "metadata": {
    "colab": {
      "provenance": [],
      "authorship_tag": "ABX9TyPsFCxpDrYEmpj/9MUbyfVW",
      "include_colab_link": true
    },
    "kernelspec": {
      "name": "python3",
      "display_name": "Python 3"
    },
    "language_info": {
      "name": "python"
    }
  },
  "cells": [
    {
      "cell_type": "markdown",
      "metadata": {
        "id": "view-in-github",
        "colab_type": "text"
      },
      "source": [
        "<a href=\"https://colab.research.google.com/github/stefanogiagu/corso_AI_2024/blob/main/provapratica_18_10/MetodiAIFisica_2024_ProvaPratica_18_10_2024.ipynb\" target=\"_parent\"><img src=\"https://colab.research.google.com/assets/colab-badge.svg\" alt=\"Open In Colab\"/></a>"
      ]
    },
    {
      "cell_type": "markdown",
      "source": [
        "# Prova Pratica - Metodi AI e Machine Learning per la fisica\n",
        "### 18.10.2024 - AA 2023/24 - Docente: S. Giagu\n",
        "\n",
        "\n",
        "> **Regole:**\n",
        "\n",
        "*   **tempo a disposizione:** 2h\n",
        "\n",
        "*   compilare con i vostri dati i campi della cella che segue e poi eseguire la cella verificando che i dati printati corrispondano. L'esecuzione della cella scarica anche i dataset da utilizzare durante la prova;\n",
        "*   risolvere i quesiti/compiti indicati nella cella *Descrizione del compito*.\n",
        "*   una volta completato il compito caricare il notebook nel apposito folder sul sito e-learning del corso disponibile al link: <p>\n",
        "[consegna esonero](https://elearning.uniroma1.it/mod/assign/view.php?id=671716)<p>\n",
        "\n",
        "**NOTA 1:** per scaricare localmente il notebook da colab: menù **File->Dowload->Download .ipynb** (non è necessario cambiare il nome del file, il form e-learning associa automaticamnte un folder con il vostro nome e id al file che caricate)\n",
        "<p>\n",
        "\n",
        "**NOTA 2:** una volta caricato e sottomesso il notebook non sono più possibili ulteriori modifiche."
      ],
      "metadata": {
        "id": "AOZDUQxb-k09"
      }
    },
    {
      "cell_type": "code",
      "source": [
        "#@ Dati Personali\n",
        "\n",
        "import os\n",
        "\n",
        "Nome = 'Pinco'  #@param {type: \"string\"}\n",
        "Cognome = 'Pallino' #@param {type: \"string\"}\n",
        "NumeroMatricola = 12345678 #@param {type: \"number\"}\n",
        "\n",
        "if NumeroMatricola == 12345678:\n",
        "  print('\\033[1;31m Inserisci il numero di matricola corretto!!!!')\n",
        "else:\n",
        "  print('Done')"
      ],
      "metadata": {
        "colab": {
          "base_uri": "https://localhost:8080/"
        },
        "cellView": "form",
        "id": "_crZf1d2_FxL",
        "outputId": "3ddd2757-2de9-43fa-9d68-80472ef0ebf7"
      },
      "execution_count": null,
      "outputs": [
        {
          "output_type": "stream",
          "name": "stdout",
          "text": [
            "\u001b[1;31m Inserisci il numero di matricola corretto!!!!\n"
          ]
        }
      ]
    },
    {
      "cell_type": "markdown",
      "source": [
        "# Descrizione del compito:\n",
        "\n",
        "1.   produrre un dataset artificiale costituito da 4000 eventi di training e 2000 eventi di test che rappresenti diverse sovrapposizioni di segnali sinusoidali nel dominio del tempo e la loro corrispettiva trasformata di fourier nel dominio delle frequenze. <p> Ciascun evento del dataset deve essere costituito da una feature e da due target distinti: target_1 e target_2.\n",
        "\n",
        "la **feature** è costituita da un vettore a 50 componenti in cui ogni componente rappresenta un campionamento della funzione sinusoidale $g(t)$ con $t$ dato da 50 valori equispaziati nell'intervallo $(-\\pi, \\pi)$. <p>\n",
        "La funzione sinusoidale $g(t)$ deve avere la forma: <p>\n",
        "$g(t) = \\sum_{i=1}^{n} f_i \\cos(k_i \\cdot t)$, <p>\n",
        "in cui:\n",
        "> * $n$ è un numero intero random estratto evento per evento con eguale probabilità tra i valori $1$ e $3$ (inclusivi), che rappresenta quante componenti cosinusoidali sono presenti nella funzione $g(t)$;\n",
        "> * $k_i$ è un numero intero random estratto evento per evento con eguale probabilità tra i valori inter $1$ e $15$ (inclusivi), che rappresenta la frequenza associata alla specifica componente cosinusoidale;\n",
        "> * $f_i$ è una frazione random estratta evento per evento in modo uniforme in $[0,1]$, tale che $\\sum_{i=1}^{n} f_i = 1$, che pesa i diversi contributi cosinusoidali in $g(t)$.\n",
        "\n",
        "**target_1** è costituito da un vettore a una componente che ha come valori il numero di componenti sinusoidali $n$ presenti nel evento; <p>\n",
        "\n",
        "**target_2** è costituito da un vettore che rappresenta la trasformata discreta di fourier della funzione $g(t)$ ed è ottenibile dal vettore di feature usando la funzione di numpy *np.fft.rfft(vettore di feature)*. <p>\n",
        "\n",
        "Esempio us np.fft.rfft:\n",
        "\n",
        "```\n",
        "import numpy as np\n",
        "import matplotlib.pyplot as plt\n",
        "\n",
        "t = np.linspace(-np.pi, np.pi, 50)\n",
        "g = 0.3*np.sin(5*t)+0.7*np.sin(10*t)\n",
        "\n",
        "fft = np.fft.rfft(g)\n",
        "target = np.absolute(fft)\n",
        "\n",
        "_ = plt.subplot(2,1,1)\n",
        "_ = plt.plot(t,g)\n",
        "_ = plt.subplot(2,1,2)\n",
        "_ = plt.plot(target)\n",
        "```\n",
        "\n",
        "2.  addestrare un regressore basato su *k-NN* per predire il target_1 a partire dagli eventi descritto nello spazio dei tempi (feature), e stimarne le prestazioni con l'ausilio di metriche quantitative;\n",
        "3.  addestrare un regressore basato sempre su RandomForest per predire il *target_2* a partire dagli eventi nello spazio dei tempi (feature), e stimarne le prestazioni con l'ausilio di metriche quantitative e plot opportuni;\n",
        "4. Plottare per tre esempi di eventi di test, con valore del *target1* rispettivamente $1$, $2$ e $3$, la distribuzione del ground truth (*target_2*) con sovrapposta la predizione del modello addestrato.\n",
        "\n",
        "* commentare opportunamente i risultati ottenuti in ogni punto."
      ],
      "metadata": {
        "id": "e-oqcEWy_R9p"
      }
    },
    {
      "cell_type": "code",
      "source": [
        "#... codice ..."
      ],
      "metadata": {
        "id": "fK-UyKs__z8o"
      },
      "execution_count": null,
      "outputs": []
    }
  ]
}