{
  "nbformat": 4,
  "nbformat_minor": 0,
  "metadata": {
    "colab": {
      "provenance": [],
      "include_colab_link": true
    },
    "kernelspec": {
      "name": "python3",
      "display_name": "Python 3"
    }
  },
  "cells": [
    {
      "cell_type": "markdown",
      "metadata": {
        "id": "view-in-github",
        "colab_type": "text"
      },
      "source": [
        "<a href=\"https://colab.research.google.com/github/stefanogiagu/corso_AI_2024/blob/main/notebooks/es1/MetodiAI_Fis2024_Es1_phython1.ipynb\" target=\"_parent\"><img src=\"https://colab.research.google.com/assets/colab-badge.svg\" alt=\"Open In Colab\"/></a>"
      ]
    },
    {
      "cell_type": "markdown",
      "metadata": {
        "id": "spfGccoIID_A"
      },
      "source": [
        "# Esercitazione 1: introduzione al python\n",
        "\n",
        "**Task:**\n",
        "\n",
        "1.   implementazione di semplici algoritmi che operano su vettori e matrici, utilizzo di cicli if-then, e loop\n",
        "2.   implementazione di un algoritmo di regressione lineare\n",
        "3.   primi grafici con la libreria matplotlib\n",
        "\n",
        "\n",
        "**NOTA IMPORTANTE:** se avete aperto il notebook da github tramite il link \"open in colab\", ricordatevi sempre di creare una vostra copia modificabile del notebook e di lavorare su tale copia (cliccando in \"Copy to Drive\" nella barra superiore del notebook)"
      ]
    },
    {
      "cell_type": "markdown",
      "metadata": {
        "id": "eVODHA43KmPZ"
      },
      "source": [
        "**Esercizio 1:**\n",
        "\n",
        "dati i seguenti oggetti, rappresentarli e stamparne il valore:\n",
        "\n",
        "*   scalare: $s = 12.3$   \n",
        "*   vettore: $v = \\left[ 3.0, -2.0, 5.5 \\right]$\n",
        "*   matrice: $M = \\left[\n",
        "\\begin{array}{ccc}\n",
        "  5.0 & 0.8 & -0.2 \\\\\n",
        "-0.8 & 3.0 & -0.8 \\\\\n",
        "0.2 & 0.8 & 1.0\n",
        "\\end{array}\n",
        "\\right]\n",
        "$\n"
      ]
    },
    {
      "cell_type": "code",
      "metadata": {
        "id": "ry3dHetBH4g8"
      },
      "source": [
        "#codice"
      ],
      "execution_count": null,
      "outputs": []
    },
    {
      "cell_type": "code",
      "metadata": {
        "id": "T1kNUJhZpcXJ",
        "colab": {
          "base_uri": "https://localhost:8080/"
        },
        "outputId": "2ae8fe89-d2d1-42ac-ffa3-15addeb4b9f0",
        "cellView": "form"
      },
      "source": [
        "#@title Soluzione 1\n",
        "#\n",
        "\n",
        "# con python float e liste\n",
        "s1 = 12.3\n",
        "v1 = [3.0,-2.0,5.5]\n",
        "M1 = [\n",
        "     [ 5.0, 0.8, -0.2],\n",
        "     [-0.8, 3.0, -0.8],\n",
        "     [ 0.2, 0.8,  1.0]\n",
        "]\n",
        "\n",
        "print('uno scalare: ',s1)\n",
        "print('un vettore: ',v1)\n",
        "print('una matrice: ',M1)\n",
        "\n",
        "print('')\n",
        "print('stampa della matrice formattata in 2D:')\n",
        "\n",
        "print('M = [')\n",
        "for i in range(3):\n",
        "  print(M1[i],'\\b,')\n",
        "print(']')\n",
        "\n",
        "print('')\n",
        "print('implementazione alternativa basata su loop impliciti di python:')\n",
        "print('M = [')\n",
        "[print(M1[i],'\\b,') for i in range(3)]\n",
        "print(']')\n",
        "\n",
        "print('')\n",
        "print('esempio soluzione usando la liberia numpy di manipolazione vettoriale, che permette di eseguire operazioni su vettori \\nin modo molto più compatto, efficiente, e veloce (la vedremo nella prossima lezione):')\n",
        "print('')\n",
        "import numpy as np\n",
        "\n",
        "s2 = 12.3\n",
        "v2 = np.array([3.0,-2.0,5.5])\n",
        "M2 = np.array([5.0, 0.8, -0.2, -0.8, 3.0, -0.8, 0.2, 0.8,  1.0])\n",
        "M2 = np.reshape(M2, (3,3)) #cambia la forma del vettore di dati da M1(9) a M1(3,3)\n",
        "\n",
        "print('uno scalare: ',s2)\n",
        "print('un vettore: ',v2)\n",
        "print('una matrice:\\n ',M2)"
      ],
      "execution_count": 59,
      "outputs": [
        {
          "output_type": "stream",
          "name": "stdout",
          "text": [
            "uno scalare:  12.3\n",
            "un vettore:  [3.0, -2.0, 5.5]\n",
            "una matrice:  [[5.0, 0.8, -0.2], [-0.8, 3.0, -0.8], [0.2, 0.8, 1.0]]\n",
            "\n",
            "stampa della matrice formattata in 2D:\n",
            "M = [\n",
            "[5.0, 0.8, -0.2] \b,\n",
            "[-0.8, 3.0, -0.8] \b,\n",
            "[0.2, 0.8, 1.0] \b,\n",
            "]\n",
            "\n",
            "implementazione alternativa basata su loop impliciti di python:\n",
            "M = [\n",
            "[5.0, 0.8, -0.2] \b,\n",
            "[-0.8, 3.0, -0.8] \b,\n",
            "[0.2, 0.8, 1.0] \b,\n",
            "]\n",
            "\n",
            "esempio soluzione usando la liberia numpy di manipolazione vettoriale, che permette di eseguire operazioni su vettori \n",
            "in modo molto più compatto, efficiente, e veloce (la vedremo nella prossima lezione):\n",
            "\n",
            "uno scalare:  12.3\n",
            "un vettore:  [ 3.  -2.   5.5]\n",
            "una matrice:\n",
            "  [[ 5.   0.8 -0.2]\n",
            " [-0.8  3.  -0.8]\n",
            " [ 0.2  0.8  1. ]]\n"
          ]
        }
      ]
    },
    {
      "cell_type": "markdown",
      "metadata": {
        "id": "urbTuPskhAgy"
      },
      "source": [
        "**Esercizio 2:**\n",
        "\n",
        "usando prima python calcolare e printare i valori di:\n",
        "\n",
        "1.   $y = v+v$\n",
        "2.   $y = sv$\n",
        "2.   $y = v\\cdot v$\n",
        "3.   $y = Mv$\n",
        "4.   $Y = M^2$\n",
        "\n",
        "\n",
        "NOTA:\n",
        "$$\n",
        "\\begin{array}{cccc}\n",
        "\\huge[\n",
        "M\n",
        "]  \n",
        "&\\times &\n",
        "\\huge[\n",
        "v\n",
        "]\n",
        "&=&\n",
        "\\huge[\n",
        "y\n",
        "]\n",
        "\\\\\n",
        "m \\times n && n \\times 1 &=&  m \\times 1\n",
        "\\end{array}\n",
        "$$\n",
        "\n",
        "<p>\n",
        "<p>\n",
        "<p>\n",
        "\n",
        "\n",
        "$$\n",
        "\\begin{array}{cccc}\n",
        "\\huge[\n",
        "M\n",
        "]  \n",
        "&\\times &\n",
        "\\huge[\n",
        "N\n",
        "]\n",
        "&=&\n",
        "\\huge[\n",
        "Y\n",
        "]\n",
        "\\\\\n",
        "m \\times n && n \\times p &=&  m \\times p\n",
        "\\end{array}\n",
        "$$\n",
        "\n",
        "\n"
      ]
    },
    {
      "cell_type": "code",
      "metadata": {
        "id": "VN9uCwZIiyzP"
      },
      "source": [
        "#codice"
      ],
      "execution_count": null,
      "outputs": []
    },
    {
      "cell_type": "code",
      "metadata": {
        "colab": {
          "base_uri": "https://localhost:8080/"
        },
        "id": "NuoQRqGhq9R1",
        "cellView": "form",
        "outputId": "5b922a1d-d769-4615-8209-6a14432f85b3"
      },
      "source": [
        "#@title Soluzione 2A\n",
        "# con python float e liste\n",
        "s1 = 12.3\n",
        "v1 = [3.0,-2.0,5.5]\n",
        "M1 = [\n",
        "     [ 5.0, 0.8, -0.2],\n",
        "     [-0.8, 3.0, -0.8],\n",
        "     [ 0.2, 0.8,  1.0]\n",
        "]\n",
        "\n",
        "# in modo pedante\n",
        "y1 = []\n",
        "y2 = []\n",
        "y3 = 0\n",
        "for i in range(len(v1)):\n",
        "  y1.append(v1[i]+v1[i])\n",
        "  y2.append(s1*v1[i])\n",
        "  y3 += (v1[i]*v1[i])\n",
        "\n",
        "y4 = []\n",
        "for i in range(len(M1)):\n",
        "  tmp = 0.0\n",
        "  for j in range(len(v1)):\n",
        "    tmp += (M1[i][j]*v1[j])\n",
        "  y4.append(tmp)\n",
        "\n",
        "\n",
        "y5 = [ [0, 0, 0],\n",
        "       [0, 0, 0],\n",
        "       [0, 0, 0]\n",
        "]\n",
        "for i in range(len(M1)):\n",
        "  for j in range(len(M1[0])):\n",
        "     for k in range(len(M1)):\n",
        "           y5[i][j] += M1[i][k] * M1[k][j]\n",
        "\n",
        "print('v+v = ',y1)\n",
        "print('')\n",
        "print('sv = ', y2)\n",
        "print('')\n",
        "print('v . v = ',y3)\n",
        "print('')\n",
        "print('Mv = ',y4)\n",
        "print('')\n",
        "print('M^2 = [')\n",
        "[print(y5[i],'\\b,') for i in range(3)]\n",
        "print(']')\n",
        "print('')\n",
        "\n",
        "print('stesso printout ma formattato:')\n",
        "print('v+v = [', end='')\n",
        "[print('{:3.1f}, '.format(member), end='') for member in y1]\n",
        "print('\\b\\b]')\n",
        "\n",
        "print('')\n",
        "print('sv = [', end='')\n",
        "[print('{:5.2f}, '.format(member), end='') for member in y2]\n",
        "print('\\b\\b]')\n",
        "\n",
        "print('')\n",
        "print('v . v = {:5.2f}'.format(y3))\n",
        "\n",
        "print('')\n",
        "print('Mv = [', end='')\n",
        "[print('{:3.1f}, '.format(member), end='') for member in y4]\n",
        "print('\\b\\b]')\n",
        "\n",
        "print('')\n",
        "print('M^2 = [')\n",
        "for member in y5:\n",
        "  print('[', end='')\n",
        "  [print('{:5.2f},'.format(element), end='') for element in member]\n",
        "  print('\\b]')\n",
        "print(']')\n",
        "print('')\n",
        "\n",
        "\n",
        "print('')\n",
        "print('modo molto compatto (ma meno leggibile) per risolvere il compito usando loop impliciti in python')\n",
        "# modo compatto (ma meno leggibile) usando loop impliciti in python\n",
        "y1 = [a*a for a in v1]\n",
        "print(y1)\n",
        "print('v+v = [', end='')\n",
        "[print('{:3.1f}, '.format(member), end='') for member in y1]\n",
        "print('\\b\\b]')\n",
        "print('')\n",
        "\n",
        "y2 = [s1*a for a in v1]\n",
        "print('sv = [', end='')\n",
        "[print('{:5.2f}, '.format(member), end='') for member in y2]\n",
        "print('\\b\\b]')\n",
        "print('')\n",
        "\n",
        "y3 = sum(a*b for a,b in zip(v1,v1))\n",
        "print('v . v = {:5.2f}'.format(y3))\n",
        "print('')\n",
        "\n",
        "y4 = [sum(a*b for a,b in zip(M_raw,v1)) for M_raw in M1]\n",
        "print('Mv = [', end='')\n",
        "[print('{:3.1f}, '.format(member), end='') for member in y4]\n",
        "print('\\b\\b]')\n",
        "print('')\n",
        "\n",
        "y5 = [[sum(a*b for a,b in zip(M_row,M_col)) for M_col in zip(*M1)] for M_row in M1]\n",
        "print('M^2 = [')\n",
        "for member in y5:\n",
        "  print('[', end='')\n",
        "  [print('{:5.2f},'.format(element), end='') for element in member]\n",
        "  print('\\b]')\n",
        "print(']')\n",
        "print('')\n",
        "\n",
        "print('NOTA: *lista --> unpack la lista')\n",
        "print('NOTA2: zip(): funzione che unisce le due liste insieme')\n",
        "print('esempio: \\n')\n",
        "print('*M = ', *M1)\n",
        "A1 = zip(M1,M1)\n",
        "print('zip(M1,M1) = ',tuple(A1))"
      ],
      "execution_count": 147,
      "outputs": [
        {
          "output_type": "stream",
          "name": "stdout",
          "text": [
            "v+v =  [6.0, -4.0, 11.0]\n",
            "\n",
            "sv =  [36.900000000000006, -24.6, 67.65]\n",
            "\n",
            "v . v =  43.25\n",
            "\n",
            "Mv =  [12.3, -12.8, 4.5]\n",
            "\n",
            "M^2 = [\n",
            "[24.32, 6.24, -1.84] \b,\n",
            "[-6.5600000000000005, 7.719999999999999, -3.04] \b,\n",
            "[0.5599999999999998, 3.3600000000000003, 0.31999999999999984] \b,\n",
            "]\n",
            "\n",
            "stesso printout ma formattato:\n",
            "v+v = [6.0, -4.0, 11.0, \b\b]\n",
            "\n",
            "sv = [36.90, -24.60, 67.65, \b\b]\n",
            "\n",
            "v . v = 43.25\n",
            "\n",
            "Mv = [12.3, -12.8, 4.5, \b\b]\n",
            "\n",
            "M^2 = [\n",
            "[24.32, 6.24,-1.84,\b]\n",
            "[-6.56, 7.72,-3.04,\b]\n",
            "[ 0.56, 3.36, 0.32,\b]\n",
            "]\n",
            "\n",
            "\n",
            "modo molto compatto (ma meno leggibile) per risolvere il compito usando loop impliciti in python\n",
            "[9.0, 4.0, 30.25]\n",
            "v+v = [9.0, 4.0, 30.2, \b\b]\n",
            "\n",
            "sv = [36.90, -24.60, 67.65, \b\b]\n",
            "\n",
            "v . v = 43.25\n",
            "\n",
            "Mv = [12.3, -12.8, 4.5, \b\b]\n",
            "\n",
            "M^2 = [\n",
            "[24.32, 6.24,-1.84,\b]\n",
            "[-6.56, 7.72,-3.04,\b]\n",
            "[ 0.56, 3.36, 0.32,\b]\n",
            "]\n",
            "\n",
            "NOTA: *lista --> unpack la lista\n",
            "NOTA2: zip(): funzione che unisce le due liste insieme\n",
            "esempio: \n",
            "\n",
            "*M =  [5.0, 0.8, -0.2] [-0.8, 3.0, -0.8] [0.2, 0.8, 1.0]\n",
            "zip(M1,M1) =  (([5.0, 0.8, -0.2], [5.0, 0.8, -0.2]), ([-0.8, 3.0, -0.8], [-0.8, 3.0, -0.8]), ([0.2, 0.8, 1.0], [0.2, 0.8, 1.0]))\n"
          ]
        }
      ]
    },
    {
      "cell_type": "code",
      "source": [
        "[print('{:4.1f}, '.format(member), end='') for member in y1]"
      ],
      "metadata": {
        "colab": {
          "base_uri": "https://localhost:8080/"
        },
        "id": "_jcqtanXDKdx",
        "outputId": "19d1d3fe-b973-4c1a-930f-c9abe43ff87f"
      },
      "execution_count": 101,
      "outputs": [
        {
          "output_type": "stream",
          "name": "stdout",
          "text": [
            " 6.0, -4.0, 11.0, "
          ]
        },
        {
          "output_type": "execute_result",
          "data": {
            "text/plain": [
              "[None, None, None]"
            ]
          },
          "metadata": {},
          "execution_count": 101
        }
      ]
    },
    {
      "cell_type": "code",
      "metadata": {
        "colab": {
          "base_uri": "https://localhost:8080/"
        },
        "id": "GnqtCcSyuFWq",
        "cellView": "form",
        "outputId": "2274e15f-356f-4478-99c1-eb0e16ea4ede"
      },
      "source": [
        "#@title Soluzione 2B (con numpy)\n",
        "\n",
        "import numpy as np\n",
        "\n",
        "s1 = 12.3\n",
        "v1 = np.array([3.0,-2.0,5.5])\n",
        "M1 = np.array([5.0, 0.8, -0.2, -0.8, 3.0, -0.8, 0.2, 0.8,  1.0])\n",
        "M1 = np.reshape(M1, (3,3))\n",
        "\n",
        "y1 = v1+v1\n",
        "y2 = s1*v1\n",
        "y3 = np.dot(v1,v1)\n",
        "y4 = np.dot(M1,v1)\n",
        "y5 = np.dot(M1,M1)\n",
        "\n",
        "print('v+v = ', y1)\n",
        "print('')\n",
        "print('sv = ', y2)\n",
        "print('')\n",
        "print('v . v = ', y3)\n",
        "print('')\n",
        "print('Mv = ', y4)\n",
        "print('')\n",
        "print('M^2 = \\n', y5)"
      ],
      "execution_count": 152,
      "outputs": [
        {
          "output_type": "stream",
          "name": "stdout",
          "text": [
            "v+v =  [ 6. -4. 11.]\n",
            "\n",
            "sv =  [ 36.9  -24.6   67.65]\n",
            "\n",
            "v . v =  43.25\n",
            "\n",
            "Mv =  [ 12.3 -12.8   4.5]\n",
            "\n",
            "M^2 = \n",
            " [[24.32  6.24 -1.84]\n",
            " [-6.56  7.72 -3.04]\n",
            " [ 0.56  3.36  0.32]]\n"
          ]
        }
      ]
    },
    {
      "cell_type": "markdown",
      "metadata": {
        "id": "QZGXlKJfjHt1"
      },
      "source": [
        "**Esercizio 3:**\n",
        "\n",
        "costruire la matrice unità ${\\bf 1}$ e verificare che $M{\\bf 1} = {\\bf 1}M = M$"
      ]
    },
    {
      "cell_type": "code",
      "metadata": {
        "id": "Nbk1J_yYlDkw"
      },
      "source": [
        "#codice"
      ],
      "execution_count": null,
      "outputs": []
    },
    {
      "cell_type": "code",
      "source": [
        "#@title Soluzione 3A\n",
        "\n",
        "M1 = [\n",
        "     [ 5.0, 0.8, -0.2],\n",
        "     [-0.8, 3.0, -0.8],\n",
        "     [ 0.2, 0.8,  1.0]\n",
        "]\n",
        "\n",
        "I1 = [\n",
        "     [1.0, 0.0, 0.0],\n",
        "     [0.0, 1.0, 0.0],\n",
        "     [0.0, 0.0, 1.0]\n",
        "]\n",
        "\n",
        "y6 = [[sum(a*b for a,b in zip(M_row,M_col)) for M_col in zip(*M1)] for M_row in I1]\n",
        "y7 = [[sum(a*b for a,b in zip(M_row,M_col)) for M_col in zip(*I1)] for M_row in M1]\n",
        "\n",
        "print('')\n",
        "print('M = [')\n",
        "[print(M1[i],'\\b,') for i in range(3)]\n",
        "print(']')\n",
        "\n",
        "print('')\n",
        "print('I = [')\n",
        "[print(I1[i],'\\b,') for i in range(3)]\n",
        "print(']')\n",
        "\n",
        "print('')\n",
        "print('MI = [')\n",
        "[print(y6[i],'\\b,') for i in range(3)]\n",
        "print(']')\n",
        "\n",
        "print('')\n",
        "print('IM = [')\n",
        "[print(y7[i],'\\b,') for i in range(3)]\n",
        "print(']')\n",
        "\n",
        "# confrontiamo le matrici tra loro (attenzione alla floating point arithmetic!)\n",
        "\n",
        "equal1 = True\n",
        "equal2 = True\n",
        "equal3 = True\n",
        "precisione = 1e-8\n",
        "for i in range(3):\n",
        "  for j in range(3):\n",
        "    if abs(y6[i][j]-y7[i][j])>precisione:\n",
        "      equal1 = False\n",
        "    if abs(y6[i][j]-M1[i][j])>precisione:\n",
        "      equal2 = False\n",
        "    if abs(y7[i][j]-M1[i][j])>precisione:\n",
        "      equal3 = False\n",
        "\n",
        "if equal1 and equal2 and equal3:\n",
        "  print('verificato')"
      ],
      "metadata": {
        "colab": {
          "base_uri": "https://localhost:8080/"
        },
        "cellView": "form",
        "id": "8O0CyfeBNl3_",
        "outputId": "8a5fcf93-67e6-472f-f849-9e317c84d000"
      },
      "execution_count": 169,
      "outputs": [
        {
          "output_type": "stream",
          "name": "stdout",
          "text": [
            "\n",
            "M = [\n",
            "[5.0, 0.8, -0.2] \b,\n",
            "[-0.8, 3.0, -0.8] \b,\n",
            "[0.2, 0.8, 1.0] \b,\n",
            "]\n",
            "\n",
            "I = [\n",
            "[1.0, 0.0, 0.0] \b,\n",
            "[0.0, 1.0, 0.0] \b,\n",
            "[0.0, 0.0, 1.0] \b,\n",
            "]\n",
            "\n",
            "MI = [\n",
            "[5.0, 0.8, -0.2] \b,\n",
            "[-0.8, 3.0, -0.8] \b,\n",
            "[0.2, 0.8, 1.0] \b,\n",
            "]\n",
            "\n",
            "IM = [\n",
            "[5.0, 0.8, -0.2] \b,\n",
            "[-0.8, 3.0, -0.8] \b,\n",
            "[0.2, 0.8, 1.0] \b,\n",
            "]\n",
            "verificato\n"
          ]
        }
      ]
    },
    {
      "cell_type": "code",
      "metadata": {
        "colab": {
          "base_uri": "https://localhost:8080/"
        },
        "id": "vXKRNC6p8RgL",
        "cellView": "form",
        "outputId": "2cbdff5e-b9fb-4c26-b0b3-71827528cf7b"
      },
      "source": [
        "#@title Soluzione 3B (con mumpy)\n",
        "import numpy as np\n",
        "\n",
        "M1 = np.array([5.0, 0.8, -0.2, -0.8, 3.0, -0.8, 0.2, 0.8, 1.0])\n",
        "M1 = np.reshape(M1, (3,3))\n",
        "print('M = \\n', M1)\n",
        "print('')\n",
        "\n",
        "# crea matrice unita\n",
        "I1 = np.diag(np.ones(3))\n",
        "print('I = \\n', I1)\n",
        "print('')\n",
        "\n",
        "# prodotto 1*M e M*1\n",
        "c0 = np.dot(I1, M1)\n",
        "c1 = np.dot(M1, I1)\n",
        "\n",
        "precisione = 1e-8\n",
        "\n",
        "print('1M = \\n', c0)\n",
        "print('')\n",
        "print('M1 = \\n', c1)\n",
        "print('')\n",
        "\n",
        "compare1 = abs(c0-M1)<precisione\n",
        "compare2 = abs(c1-M1)<precisione\n",
        "if compare1.all() and compare2.all():  #.all() ritorna True se tutti gli elementi in un iterabile sono True, altrimenti riotrna False\n",
        "  print('M1 = 1M verificato')\n",
        "\n",
        "print('')\n",
        "# usiamo ora la ibreria di numpy linalg che conteiene la funzione inv che permette di calcolare l'inversa di una matrice\n",
        "invM1 = np.linalg.inv(M1)\n",
        "print('M^-1 = \\n', invM1)\n",
        "print('')\n",
        "\n",
        "c2 = np.dot(M1, invM1)\n",
        "c3 = np.dot(invM1, M1)\n",
        "print('MM^-1 = \\n', c2)\n",
        "print('')\n",
        "print('M^-1M = \\n', c3)\n",
        "print('')\n",
        "compare3 = abs(c2-I1)<precisione\n",
        "compare4 = abs(c3-I1)<precisione\n",
        "\n",
        "if compare3.all() and compare4.all():\n",
        "  print('MM^-1 = 1 verificato')"
      ],
      "execution_count": 189,
      "outputs": [
        {
          "output_type": "stream",
          "name": "stdout",
          "text": [
            "M = \n",
            " [[ 5.   0.8 -0.2]\n",
            " [-0.8  3.  -0.8]\n",
            " [ 0.2  0.8  1. ]]\n",
            "\n",
            "I = \n",
            " [[1. 0. 0.]\n",
            " [0. 1. 0.]\n",
            " [0. 0. 1.]]\n",
            "\n",
            "1M = \n",
            " [[ 5.   0.8 -0.2]\n",
            " [-0.8  3.  -0.8]\n",
            " [ 0.2  0.8  1. ]]\n",
            "\n",
            "M1 = \n",
            " [[ 5.   0.8 -0.2]\n",
            " [-0.8  3.  -0.8]\n",
            " [ 0.2  0.8  1. ]]\n",
            "\n",
            "M1 = 1M verificato\n",
            "\n",
            "M^-1 = \n",
            " [[ 0.19198312 -0.05063291 -0.0021097 ]\n",
            " [ 0.03375527  0.26582278  0.21940928]\n",
            " [-0.06540084 -0.20253165  0.82489451]]\n",
            "\n",
            "MM^-1 = \n",
            " [[ 1.00000000e+00  2.72285710e-17  1.30462917e-17]\n",
            " [ 8.45549603e-18  1.00000000e+00  5.21851666e-17]\n",
            " [-1.38777878e-17  0.00000000e+00  1.00000000e+00]]\n",
            "\n",
            "M^-1M = \n",
            " [[ 1.00000000e+00  2.68186785e-18 -4.33680869e-19]\n",
            " [-5.89074031e-18  1.00000000e+00  0.00000000e+00]\n",
            " [-6.85574429e-17 -5.21851666e-17  1.00000000e+00]]\n",
            "\n",
            "MM^-1 = 1 verificato\n"
          ]
        }
      ]
    },
    {
      "cell_type": "markdown",
      "source": [
        "**Esercizio 4:**\n",
        "\n",
        "provare ad implementare un esperimento toy per un'algoritmo basilare di regressione lineare\n",
        "\n",
        "1.   viene dato il seguente dataset di coppie di misure $T\\{x_i,y_i\\}, i=1,\\cdots N$:\n",
        "\n",
        "\n",
        "\n",
        "```\n",
        "x = [0., 2.22, 4.44, 6.67, 8.89, 11.11, 13.33, 15.56, 17.788, 20.0]\n",
        "\n",
        "y = [-2.1489976, 1.26684956, 5.00441023, 3.84220594, 5.95983884, 6.44189515,\n",
        "  6.88238407, 12.04053287, 10.73255652, 10.29414663]\n",
        "```\n",
        "\n",
        "2.  si ipotizza che il campione sia stato prodotto in accordo ad una funzione lineare del tipo: $y = \\theta x + \\epsilon\\,,\\quad \\epsilon\\sim\\mathcal N(0,\\sigma)$, in cui $x\\in\\mathbb{R}$ rappresenta l'input, $\\theta=0.6$, e $y\\in\\mathbb{R}$ le osservazioni \"rumorose\" ($\\epsilon$ è un numero random gaussiano estratto evento per evento)\n",
        "\n",
        "3. si chiede di scrivere ed allenare un modello lineare di ML che apprenda la funzione di mapping $y=f_\\theta(x)$, addestrando l'algoritmo in modo empirico in base a $k$ step di addestramento, in cui, partendo da un valore random del parametro $\\theta$ nell'intervallo $(0,1)$, si aggiorni il valore di $\\theta$ ad ogni step muovendosi in un intervallo piccolo introno al valore corrente del paramento, e accettando la nuova soluzione in accordo alla funzione di costo $MSE$ definita come: $MSE(\\theta) = \\frac{1}{N}\\sum_{i=1}^N (y_i - f_\\theta(x_i))^2$, in cui la somma è fatta su gli elementi del campione.\n",
        "\n",
        "\n",
        "```\n",
        "# per generare numeri pesudorandom in python\n",
        "import random\n",
        "\n",
        "a = random.random()\n",
        "print(a)\n",
        "```\n",
        "\n",
        "\n",
        "\n",
        "3.   testare le predizioni del modello con input $x \\in [0.,20.]$ e confrontare con l'andamento teorico ipotizzato ($\\theta = 0.6$), calcolando l'MSE tra risultati predetti e quelli veri attesi assumendo $\\theta=0.6$.\n",
        "\n",
        "4.   guardare alla soluzione proposta per vedere come è possibile graficare in un plot $y$ VS $x$, i risultati ottenuti, sfruttando la libreraia python **matplotlib** (che vedremo più in dettaglio nella prossima lezione)."
      ],
      "metadata": {
        "id": "PMtScIQEZQcm"
      }
    },
    {
      "cell_type": "markdown",
      "source": [],
      "metadata": {
        "id": "wiCQgl9ign-m"
      }
    },
    {
      "cell_type": "code",
      "source": [
        "#code"
      ],
      "metadata": {
        "id": "vvZ4tCkYeui-"
      },
      "execution_count": 191,
      "outputs": []
    },
    {
      "cell_type": "code",
      "source": [
        "#@title Soluzione 4\n",
        "\n",
        "\n",
        "# creo due liste contenenti i dati del camppione di training:\n",
        "x_train = [0., 2.22, 4.44, 6.67, 8.89, 11.11, 13.33, 15.56, 17.788, 20.0]\n",
        "\n",
        "y_train = [-2.1489976, 1.26684956, 5.00441023, 3.84220594, 5.95983884, 6.44189515,\n",
        "  6.88238407, 12.04053287, 10.73255652, 10.29414663]\n",
        "\n",
        "# creo una funzione che implementa il modello lineare\n",
        "def model(x, w):\n",
        "  return w*x\n",
        "\n",
        "# creo una funzione che implementa la loss MSE\n",
        "# input sono due liste (x, y) e il valore del parametro w\n",
        "def mse_loss(x, y, w):\n",
        "  res = 0.0\n",
        "  for event in range(len(x)):\n",
        "    res += (y[event]-model(x[event],w))**2.0\n",
        "  return res/len(x)\n",
        "\n",
        "\n",
        "# training del modello con il campione di training\n",
        "\n",
        "k = 50 #step di addestramento\n",
        "eta = 0.1 #learning rate\n",
        "\n",
        "import random\n",
        "w_star = random.random() #inizializzo in modo random in (0,1) il parametro da addestrare\n",
        "loss_old = mse_loss(x_train,y_train,w_star) # loss iniziale\n",
        "\n",
        "for epoch in range(k):\n",
        "\n",
        "  # mi sposto nel loss landscape di una quantità eta*step con step un nuemro random in (-1,1)\n",
        "  step = 2*random.random() - 1\n",
        "  w_new = w_star + eta*step\n",
        "\n",
        "  # nuova loss\n",
        "  loss_new = mse_loss(x_train,y_train,w_new)\n",
        "\n",
        "  # se loss_new < loss_old aggiorno w\n",
        "  if loss_new < loss_old:\n",
        "    w_star = w_new\n",
        "    loss_old = loss_new\n",
        "    print('epoch ',epoch, ' improved loss: mse / w_star:', loss_new, ' / ', w_star)\n",
        "\n",
        "print('best model loss = ', mse_loss(x_train,y_train,w_star), ' per w_star = ', w_star, '\\n')\n",
        "\n",
        "# test set\n",
        "x_test = list(range(20)) #creo una lista con 20 valori equispaziati tra 0 e 20\n",
        "y_true = list([model(x_test[ev], 0.6) for ev in range(20)])  # ground truth\n",
        "y_pred = list([model(x_test[ev], w_star) for ev in range(20)]) #risultati predetti sul test set\n",
        "\n",
        "\n",
        "# calcolo mse\n",
        "mse_test = mse_loss(x_test, y_true, w_star)\n",
        "print('MSE test set: ', mse_test)\n",
        "\n",
        "\n",
        "# plot dei risultati\n",
        "import matplotlib.pyplot as plt\n",
        "\n",
        "plt.figure()\n",
        "plt.plot(x_train, y_train, '+', markersize=10, label='train data')\n",
        "plt.plot(x_test, y_pred, color='blue', alpha=0.5, label='prediction')\n",
        "plt.plot(x_test, y_true, color='green', alpha=0.5, label='ground truth')\n",
        "plt.xlabel(\"$x$\")\n",
        "plt.ylabel(\"$y$\");\n",
        "plt.legend()\n",
        "plt.draw()"
      ],
      "metadata": {
        "colab": {
          "base_uri": "https://localhost:8080/",
          "height": 653
        },
        "cellView": "form",
        "id": "f31OXLJaewLa",
        "outputId": "f103bda3-3c8e-41ae-eaee-98be3af2b886"
      },
      "execution_count": 233,
      "outputs": [
        {
          "output_type": "stream",
          "name": "stdout",
          "text": [
            "epoch  0  improved loss: mse / w_star: 22.280734172319676  /  0.22689029429078952\n",
            "epoch  1  improved loss: mse / w_star: 20.57089485512561  /  0.24332759270341384\n",
            "epoch  3  improved loss: mse / w_star: 15.238992026560473  /  0.300233659453203\n",
            "epoch  4  improved loss: mse / w_star: 10.950314266917859  /  0.3552600258626749\n",
            "epoch  5  improved loss: mse / w_star: 6.260518245466348  /  0.43474557959418114\n",
            "epoch  8  improved loss: mse / w_star: 3.8539276912556617  /  0.4962007828562529\n",
            "epoch  9  improved loss: mse / w_star: 2.26142493806726  /  0.5838507004821737\n",
            "epoch  15  improved loss: mse / w_star: 2.2266169422932847  /  0.591085993608007\n",
            "epoch  17  improved loss: mse / w_star: 2.2084400919921263  /  0.6117859237888873\n",
            "best model loss =  2.2084400919921263  per w_star =  0.6117859237888873 \n",
            "\n",
            "MSE test set:  0.017155137945346288\n"
          ]
        },
        {
          "output_type": "display_data",
          "data": {
            "text/plain": [
              "<Figure size 640x480 with 1 Axes>"
            ],
            "image/png": "[encoded data removed]"
          },
          "metadata": {}
        }
      ]
    },
    {
      "cell_type": "markdown",
      "metadata": {
        "id": "4mUJonfQw8AW"
      },
      "source": [
        "**Esercizio suggerit0 per casa:**\n",
        "\n",
        "1. estendere il modello al caso lineare a due parametri, intercetta, slope: $w_0 + w_1*x$"
      ]
    }
  ]
}