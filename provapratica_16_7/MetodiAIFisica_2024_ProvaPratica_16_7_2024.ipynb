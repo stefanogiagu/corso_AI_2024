{
  "nbformat": 4,
  "nbformat_minor": 0,
  "metadata": {
    "colab": {
      "provenance": [],
      "authorship_tag": "ABX9TyNA4IAgR1m6x2Dx4DCgGy/M",
      "include_colab_link": true
    },
    "kernelspec": {
      "name": "python3",
      "display_name": "Python 3"
    },
    "language_info": {
      "name": "python"
    }
  },
  "cells": [
    {
      "cell_type": "markdown",
      "metadata": {
        "id": "view-in-github",
        "colab_type": "text"
      },
      "source": [
        "<a href=\"https://colab.research.google.com/github/stefanogiagu/corso_AI_2024/blob/main/provapratica_16_7/MetodiAIFisica_2024_ProvaPratica_16_7_2024.ipynb\" target=\"_parent\"><img src=\"https://colab.research.google.com/assets/colab-badge.svg\" alt=\"Open In Colab\"/></a>"
      ]
    },
    {
      "cell_type": "markdown",
      "source": [
        "# Prova Pratica - Metodi AI per la fisica\n",
        "### 16.7.2024 - AA 2023/24 - Docente: S. Giagu\n",
        "\n",
        "\n",
        "> **Regole:**\n",
        "\n",
        "*   **tempo a disposizione:** 2.5h\n",
        "\n",
        "*   compilare con i vostri dati i campi della cella che segue e poi eseguire la cella verificando che i dati printati corrispondano. L'esecuzione della cella scarica anche i dataset da utilizzare durante la prova;\n",
        "*   risolvere i quesiti/compiti indicati nella cella *Descrizione del compito*.\n",
        "*   una volta completato il compito caricare il notebook nel apposito folder sul sito e-learning del corso disponibile al link: <p>\n",
        "[consegna esonero](https://elearning.uniroma1.it/mod/assign/view.php?id=649133)<p>\n",
        "\n",
        "**NOTA 1:** per scaricare localmente il notebook da colab: menù **File->Dowload->Download .ipynb** (non è necessario cambiare il nome del file, il form e-learning associa automaticamnte un folder con il vostro nome e id al file che caricate)\n",
        "<p>\n",
        "\n",
        "**NOTA 2:** una volta caricato e sottomesso il notebook non sono più possibili ulteriori modifiche."
      ],
      "metadata": {
        "id": "bc9160FmJpVf"
      }
    },
    {
      "cell_type": "code",
      "source": [
        "#@ Dati Personali\n",
        "import os\n",
        "\n",
        "Nome = 'Stefano'  #@param {type: \"string\"}\n",
        "Cognome = 'Giagu' #@param {type: \"string\"}\n",
        "NumeroMatricola = 12345678 #@param {type: \"number\"}\n",
        "\n",
        "if NumeroMatricola == 12345678:\n",
        "  print('\\033[1;31m Inserisci il numero di matricola corretto!!!!')\n",
        "else:\n",
        "  print('Download datasets ...')\n",
        "  !wget http://giagu.web.cern.ch/giagu/CERN/pp_16.7.2024_train_images.npz\n",
        "  !wget http://giagu.web.cern.ch/giagu/CERN/pp_16.7.2024_test_images.npz\n",
        "  !wget http://giagu.web.cern.ch/giagu/CERN/pp_16.7.2024_labels.npz\n",
        "  !ls\n",
        "  print('Done')"
      ],
      "metadata": {
        "colab": {
          "base_uri": "https://localhost:8080/"
        },
        "cellView": "form",
        "id": "DNPSWZsGV0hy",
        "outputId": "c56d7748-5fe1-443f-9965-3d9d3cba6d9f"
      },
      "execution_count": null,
      "outputs": [
        {
          "output_type": "stream",
          "name": "stdout",
          "text": [
            "\u001b[1;31m Inserisci il numero di matricola corretto!!!!\n"
          ]
        }
      ]
    },
    {
      "cell_type": "markdown",
      "source": [
        "# Descrizione del compito:\n",
        "\n",
        "Viene fornito un dataset in formato numpy compresso costituito da tre file:\n",
        "\n",
        "*   *pp_16.7.2024_train_images.npz*, contenente 7033 esempi di immagini di shape: (7033,96,96,3)\n",
        "*   *pp_16.7.2024_labels.npz*, contenente le labels corrispondenti a ciascuna immagine. Le labels sono 6 numeri floating point che rappresentano le coordinate (x,y) di tre punti caratteristici di ciascuna immagine, e hanno shape: (7033,6), in cui le 6 feature rappresentano nell'ordine: *punto1_x, punto1_y, punto2_x, punto2_y, punto3_x, punto3_y*.\n",
        "*    *pp_16.7.2024_test_images.npz*, contenente 3 esempi di immagini di test dello stesso tipo di quelle del training set, con shape: (3,96,96,3).\n",
        "\n",
        "Per leggere i vettori numpy è possibile usare l'esempio di codice:\n",
        "\n",
        "```\n",
        "import numpy as np\n",
        "f1 = np.load('pp_16.7.2024_train_images.npz')\n",
        "f2 = np.load('pp_16.7.2024_labels.npz')\n",
        "f3 = np.load('pp_16.7.2024_test_images.npz')\n",
        "images = f1['images']\n",
        "labels = f2['labels']\n",
        "images_test = f3['images_test']\n",
        "```\n",
        "\n",
        "**Svolgere i seguenti quesiti:**\n",
        "\n",
        "1. (Q1): graficare 3 immagini scelte random dal dataset *training_images* sovrapponendoci i 3 punti caratteristici truth corrispondenti (in rosso);\n",
        "2. (Q2): allenare una rete neurale di tipo convoluzionale a predire il valore delle coordinate dei 3 punti caratteristici delle immagini;\n",
        "3. (Q3): valutare le prestazioni del modello allenato nel modo che si ritiene più opportuno;\n",
        "4. (Q4): prendere tre immagini del dataset *training_images*  (che non siano state utilizzate per addestrare il modello), graficarle e sovrapporci i tre punti caratteristici predetti (in giallo) e i tre punti caratteristici truth (in rosso);   \n",
        "5. (Q5): predire le coordinate dei tre punti caratteristici per le tre immagini del dataset *test_images*, graficare le tre immagini e sovrapporci le predizioni dei tre punti caratteristici (in giallo);\n",
        "6. (Q6): provare a risolvere lo stesso problema usando un algoritmo k-NearestNeighbors con k=3, confrontando le prestazioni ottenute con quelle della rete neurale. Quale algoritmo funziona meglio?\n",
        "\n",
        "* commentare opportunamente i risultati ottenuti in ogni punto.\n",
        "---"
      ],
      "metadata": {
        "id": "IjeivMlvZdhd"
      }
    },
    {
      "cell_type": "code",
      "source": [
        "#... codice ..."
      ],
      "metadata": {
        "id": "Gog0PCCgoTWO"
      },
      "execution_count": null,
      "outputs": []
    }
  ]
}